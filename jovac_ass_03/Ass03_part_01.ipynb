{
  "nbformat": 4,
  "nbformat_minor": 0,
  "metadata": {
    "colab": {
      "provenance": []
    },
    "kernelspec": {
      "name": "python3",
      "display_name": "Python 3"
    },
    "language_info": {
      "name": "python"
    }
  },
  "cells": [
    {
      "cell_type": "code",
      "execution_count": null,
      "metadata": {
        "id": "eSjcLnYMoH9W"
      },
      "outputs": [],
      "source": [
        "# Task 1: Theory Questions\n",
        "# Q1 :- What is the core assumption of Naive Bayes?\n",
        "# ans :- The core assumption of Naive Bayes is that all features are independent of each other given the class label, which is called conditional independence.\n",
        "# Q2 :- Differentiate between GaussianNB, MultinomialNB, and BernoulliNB.\n",
        "# ans :- GaussianNB is used when features are continuous and follow a normal distribution.\n",
        "#        MultinomialNB is used for count data like word frequencies in text classification.\n",
        "#        BernoulliNB is for binary/boolean features (0s and 1s), like word presence/absence.\n",
        "# Q3 :- Why is Naive Bayes considered suitable for high-dimensional data?\n",
        "# ans :- Naive Bayes works well with high-dimensional data because it’s computationally efficient, doesn’t overfit easily, and handles lots of features independently without getting too complex.\n",
        "\n"
      ]
    },
    {
      "cell_type": "markdown",
      "source": [
        "# Task 1: Theory Questions\n",
        "Q1 :- What is the core assumption of Naive Bayes?\n",
        "\n",
        "ans :- The core assumption of Naive Bayes is that all features are independent of each other given the class label, which is called conditional independence.\n",
        "\n",
        "Q2 :- Differentiate between GaussianNB, MultinomialNB, and BernoulliNB.\n",
        "\n",
        "ans :- GaussianNB is used when features are continuous and follow a normal distribution.\n",
        "      MultinomialNB is used for count data like word frequencies in text classification.\n",
        "     BernoulliNB is for binary/boolean features (0s and 1s), like word presence/absence.\n",
        "\n",
        "Q3 :- Why is Naive Bayes considered suitable for high-dimensional data?\n",
        "\n",
        "ans :- Naive Bayes works well with high-dimensional data because it’s     computationally efficient, doesn’t overfit easily, and handles lots of features independently without getting too complex.\n",
        "\n"
      ],
      "metadata": {
        "id": "7o5GHGi5pB74"
      }
    },
    {
      "cell_type": "code",
      "source": [
        "# Task 2: Spam Detection using MultinomialNB\n",
        "\n",
        "# Import required modules\n",
        "\n",
        "import pandas as pd\n",
        "from sklearn.model_selection import train_test_split\n",
        "from sklearn.feature_extraction.text import TfidfVectorizer\n",
        "from sklearn.naive_bayes import MultinomialNB\n",
        "from sklearn.metrics import accuracy_score, precision_score, recall_score, confusion_matrix\n",
        "\n",
        "# Load the SMS Spam Dataset\n",
        "\n",
        "url = \"https://raw.githubusercontent.com/justmarkham/pycon-2016-tutorial/master/data/sms.tsv\"\n",
        "df = pd.read_csv(url, sep='\\t', header=None)\n",
        "df.columns = ['label', 'message']\n",
        "\n",
        "# Preprocessing steps\n",
        "\n",
        "\n",
        "# convert labels to 0 (ham) and 1 (spam)\n",
        "df['label'] = df['label'].map({'ham': 0, 'spam': 1})\n",
        "\n",
        "# split into train and test sets\n",
        "X_train, X_test, y_train, y_test = train_test_split(\n",
        "    df['message'], df['label'], test_size=0.2, random_state=42)\n",
        "\n",
        "# use TfidfVectorizer to convert text into numeric vectors\n",
        "vectorizer = TfidfVectorizer()\n",
        "X_train_vec = vectorizer.fit_transform(X_train)\n",
        "X_test_vec = vectorizer.transform(X_test)\n",
        "\n",
        "\n",
        "# Train the MultinomialNB classifier\n",
        "\n",
        "\n",
        "model = MultinomialNB()\n",
        "model.fit(X_train_vec, y_train)\n",
        "\n",
        "\n",
        "# Prediction\n",
        "\n",
        "\n",
        "y_pred = model.predict(X_test_vec)\n",
        "\n",
        "\n",
        "# Evaluation of the model\n",
        "\n",
        "\n",
        "acc = accuracy_score(y_test, y_pred)\n",
        "prec = precision_score(y_test, y_pred)\n",
        "rec = recall_score(y_test, y_pred)\n",
        "cm = confusion_matrix(y_test, y_pred)\n",
        "\n",
        "# print the results\n",
        "print(\"Accuracy:\", acc)\n",
        "print(\"Precision:\", prec)\n",
        "print(\"Recall:\", rec)\n",
        "print(\"Confusion Matrix:\\n\", cm)\n"
      ],
      "metadata": {
        "colab": {
          "base_uri": "https://localhost:8080/"
        },
        "id": "4-rRz6CspGKG",
        "outputId": "3ba1b021-f7cb-4705-9e40-36af1ad7ab4b"
      },
      "execution_count": 3,
      "outputs": [
        {
          "output_type": "stream",
          "name": "stdout",
          "text": [
            "Accuracy: 0.9668161434977578\n",
            "Precision: 1.0\n",
            "Recall: 0.7516778523489933\n",
            "Confusion Matrix:\n",
            " [[966   0]\n",
            " [ 37 112]]\n"
          ]
        }
      ]
    },
    {
      "cell_type": "code",
      "source": [
        "# Task 3: GaussianNB with Iris Dataset\n",
        "from sklearn.datasets import load_iris\n",
        "from sklearn.model_selection import train_test_split\n",
        "from sklearn.naive_bayes import GaussianNB\n",
        "from sklearn.linear_model import LogisticRegression\n",
        "from sklearn.tree import DecisionTreeClassifier\n",
        "from sklearn.metrics import accuracy_score\n",
        "\n",
        "# load the iris dataset\n",
        "data = load_iris()\n",
        "X = data.data\n",
        "y = data.target\n",
        "\n",
        "# split into training and test sets\n",
        "X_train, X_test, y_train, y_test = train_test_split(X, y, test_size=0.2, random_state=42)\n",
        "\n",
        "# train GaussianNB model\n",
        "gnb = GaussianNB()\n",
        "gnb.fit(X_train, y_train)\n",
        "gnb_preds = gnb.predict(X_test)\n",
        "\n",
        "# evaluate GaussianNB\n",
        "gnb_acc = accuracy_score(y_test, gnb_preds)\n",
        "print(\"GaussianNB Accuracy:\", gnb_acc)\n",
        "\n",
        "# train and evaluate Logistic Regression\n",
        "lr = LogisticRegression(max_iter=200)\n",
        "lr.fit(X_train, y_train)\n",
        "lr_preds = lr.predict(X_test)\n",
        "lr_acc = accuracy_score(y_test, lr_preds)\n",
        "print(\"Logistic Regression Accuracy:\", lr_acc)\n",
        "\n",
        "# train and evaluate Decision Tree\n",
        "dt = DecisionTreeClassifier()\n",
        "dt.fit(X_train, y_train)\n",
        "dt_preds = dt.predict(X_test)\n",
        "dt_acc = accuracy_score(y_test, dt_preds)\n",
        "print(\"Decision Tree Accuracy:\", dt_acc)\n"
      ],
      "metadata": {
        "colab": {
          "base_uri": "https://localhost:8080/"
        },
        "id": "VHUmIml9q1gB",
        "outputId": "54d3fe03-2a4c-4876-f42c-59edff140875"
      },
      "execution_count": 4,
      "outputs": [
        {
          "output_type": "stream",
          "name": "stdout",
          "text": [
            "GaussianNB Accuracy: 1.0\n",
            "Logistic Regression Accuracy: 1.0\n",
            "Decision Tree Accuracy: 1.0\n"
          ]
        }
      ]
    }
  ]
}