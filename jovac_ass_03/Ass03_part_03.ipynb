{
  "nbformat": 4,
  "nbformat_minor": 0,
  "metadata": {
    "colab": {
      "provenance": []
    },
    "kernelspec": {
      "name": "python3",
      "display_name": "Python 3"
    },
    "language_info": {
      "name": "python"
    }
  },
  "cells": [
    {
      "cell_type": "markdown",
      "source": [
        "# Task 7: Conceptual Questions\n",
        "\n",
        "1. What is the difference between Bagging and Boosting?\n",
        "Bagging trains many models in parallel and then combines their output (like voting or averaging). Boosting trains models one after another, each new model tries to fix errors made by the previous one.\n",
        "Bagging mainly reduces variance, boosting reduces bias.\n",
        "\n",
        "2. How does Random Forest reduce variance?\n",
        "Random Forest is like bagging with decision trees. It trains many trees on random subsets of data and features, so all trees are different.\n",
        "By averaging their results, it reduces variance and makes the final prediction more stable and not too sensitive to noise.\n",
        "\n",
        "3. What is the weakness of boosting-based methods?\n",
        "Boosting can easily overfit if not controlled properly, especially if the model becomes too complex.\n",
        "Also it's slower than bagging because models train one after another, not together."
      ],
      "metadata": {
        "id": "FMGYvoOwtGaI"
      }
    },
    {
      "cell_type": "code",
      "execution_count": 3,
      "metadata": {
        "colab": {
          "base_uri": "https://localhost:8080/",
          "height": 1000
        },
        "id": "FZeyC32gtDK2",
        "outputId": "ea060eb3-4d0a-477f-c311-7bbe22f3a07e"
      },
      "outputs": [
        {
          "output_type": "stream",
          "name": "stderr",
          "text": [
            "/tmp/ipython-input-66875175.py:13: FutureWarning: A value is trying to be set on a copy of a DataFrame or Series through chained assignment using an inplace method.\n",
            "The behavior will change in pandas 3.0. This inplace method will never work because the intermediate object on which we are setting values always behaves as a copy.\n",
            "\n",
            "For example, when doing 'df[col].method(value, inplace=True)', try using 'df.method({col: value}, inplace=True)' or df[col] = df[col].method(value) instead, to perform the operation inplace on the original object.\n",
            "\n",
            "\n",
            "  df['age'].fillna(df['age'].mean(), inplace=True)\n",
            "/tmp/ipython-input-66875175.py:13: SettingWithCopyWarning: \n",
            "A value is trying to be set on a copy of a slice from a DataFrame\n",
            "\n",
            "See the caveats in the documentation: https://pandas.pydata.org/pandas-docs/stable/user_guide/indexing.html#returning-a-view-versus-a-copy\n",
            "  df['age'].fillna(df['age'].mean(), inplace=True)\n",
            "/tmp/ipython-input-66875175.py:14: FutureWarning: A value is trying to be set on a copy of a DataFrame or Series through chained assignment using an inplace method.\n",
            "The behavior will change in pandas 3.0. This inplace method will never work because the intermediate object on which we are setting values always behaves as a copy.\n",
            "\n",
            "For example, when doing 'df[col].method(value, inplace=True)', try using 'df.method({col: value}, inplace=True)' or df[col] = df[col].method(value) instead, to perform the operation inplace on the original object.\n",
            "\n",
            "\n",
            "  df['embarked'].fillna(df['embarked'].mode()[0], inplace=True)\n",
            "/tmp/ipython-input-66875175.py:14: SettingWithCopyWarning: \n",
            "A value is trying to be set on a copy of a slice from a DataFrame\n",
            "\n",
            "See the caveats in the documentation: https://pandas.pydata.org/pandas-docs/stable/user_guide/indexing.html#returning-a-view-versus-a-copy\n",
            "  df['embarked'].fillna(df['embarked'].mode()[0], inplace=True)\n",
            "/tmp/ipython-input-66875175.py:17: SettingWithCopyWarning: \n",
            "A value is trying to be set on a copy of a slice from a DataFrame.\n",
            "Try using .loc[row_indexer,col_indexer] = value instead\n",
            "\n",
            "See the caveats in the documentation: https://pandas.pydata.org/pandas-docs/stable/user_guide/indexing.html#returning-a-view-versus-a-copy\n",
            "  df['sex'] = df['sex'].map({'male': 0, 'female': 1})\n",
            "/tmp/ipython-input-66875175.py:18: SettingWithCopyWarning: \n",
            "A value is trying to be set on a copy of a slice from a DataFrame.\n",
            "Try using .loc[row_indexer,col_indexer] = value instead\n",
            "\n",
            "See the caveats in the documentation: https://pandas.pydata.org/pandas-docs/stable/user_guide/indexing.html#returning-a-view-versus-a-copy\n",
            "  df['embarked'] = df['embarked'].map({'S': 0, 'C': 1, 'Q': 2})\n"
          ]
        },
        {
          "output_type": "stream",
          "name": "stdout",
          "text": [
            "Decision Tree - Accuracy: 0.770949720670391 Precision: 0.726027397260274 Recall: 0.7162162162162162\n",
            "Random Forest - Accuracy: 0.7988826815642458 Precision: 0.7638888888888888 Recall: 0.7432432432432432\n"
          ]
        },
        {
          "output_type": "display_data",
          "data": {
            "text/plain": [
              "<Figure size 800x500 with 1 Axes>"
            ],
            "image/png": "[encoded data removed]"
          },
          "metadata": {}
        }
      ],
      "source": [
        "# Task 8: Random Forest vs Decision Tree\n",
        "import seaborn as sns\n",
        "import pandas as pd\n",
        "from sklearn.model_selection import train_test_split\n",
        "from sklearn.tree import DecisionTreeClassifier\n",
        "from sklearn.ensemble import RandomForestClassifier\n",
        "from sklearn.metrics import accuracy_score, precision_score, recall_score\n",
        "import matplotlib.pyplot as plt\n",
        "\n",
        "# load Titanic dataset\n",
        "df = sns.load_dataset('titanic')\n",
        "df = df[['survived', 'pclass', 'sex', 'age', 'fare', 'embarked']]\n",
        "df['age'].fillna(df['age'].mean(), inplace=True)\n",
        "df['embarked'].fillna(df['embarked'].mode()[0], inplace=True)\n",
        "\n",
        "# encode categorical\n",
        "df['sex'] = df['sex'].map({'male': 0, 'female': 1})\n",
        "df['embarked'] = df['embarked'].map({'S': 0, 'C': 1, 'Q': 2})\n",
        "\n",
        "X = df.drop('survived', axis=1)\n",
        "y = df['survived']\n",
        "\n",
        "# split data\n",
        "X_train, X_test, y_train, y_test = train_test_split(X, y, test_size=0.2, random_state=42)\n",
        "\n",
        "# train decision tree\n",
        "dt = DecisionTreeClassifier()\n",
        "dt.fit(X_train, y_train)\n",
        "dt_pred = dt.predict(X_test)\n",
        "\n",
        "# train random forest\n",
        "rf = RandomForestClassifier(n_estimators=100, random_state=42)\n",
        "rf.fit(X_train, y_train)\n",
        "rf_pred = rf.predict(X_test)\n",
        "\n",
        "# metrics for decision tree\n",
        "dt_acc = accuracy_score(y_test, dt_pred)\n",
        "dt_prec = precision_score(y_test, dt_pred)\n",
        "dt_rec = recall_score(y_test, dt_pred)\n",
        "\n",
        "# metrics for random forest\n",
        "rf_acc = accuracy_score(y_test, rf_pred)\n",
        "rf_prec = precision_score(y_test, rf_pred)\n",
        "rf_rec = recall_score(y_test, rf_pred)\n",
        "\n",
        "print(\"Decision Tree - Accuracy:\", dt_acc, \"Precision:\", dt_prec, \"Recall:\", dt_rec)\n",
        "print(\"Random Forest - Accuracy:\", rf_acc, \"Precision:\", rf_prec, \"Recall:\", rf_rec)\n",
        "\n",
        "# feature importance plot (random forest)\n",
        "importances = rf.feature_importances_\n",
        "features = X.columns\n",
        "\n",
        "plt.figure(figsize=(8,5))\n",
        "plt.bar(features, importances, color='skyblue')\n",
        "plt.title(\"Feature Importances (Random Forest)\")\n",
        "plt.ylabel(\"Importance\")\n",
        "plt.xticks(rotation=30)\n",
        "plt.show()\n"
      ]
    },
    {
      "cell_type": "code",
      "source": [
        "# Task 9: AdaBoost or Gradient Boosting\n",
        "\n",
        "import seaborn as sns\n",
        "import pandas as pd\n",
        "from sklearn.model_selection import train_test_split\n",
        "from sklearn.ensemble import AdaBoostClassifier, RandomForestClassifier\n",
        "from sklearn.tree import DecisionTreeClassifier\n",
        "from sklearn.metrics import accuracy_score, f1_score\n",
        "\n",
        "# load Titanic dataset\n",
        "df = sns.load_dataset('titanic')\n",
        "df = df[['survived', 'pclass', 'sex', 'age', 'fare', 'embarked']]\n",
        "df['age'].fillna(df['age'].mean(), inplace=True)\n",
        "df['embarked'].fillna(df['embarked'].mode()[0], inplace=True)\n",
        "\n",
        "# encode\n",
        "df['sex'] = df['sex'].map({'male': 0, 'female': 1})\n",
        "df['embarked'] = df['embarked'].map({'S': 0, 'C': 1, 'Q': 2})\n",
        "\n",
        "X = df.drop('survived', axis=1)\n",
        "y = df['survived']\n",
        "\n",
        "# split data\n",
        "X_train, X_test, y_train, y_test = train_test_split(X, y, test_size=0.2, random_state=42)\n",
        "\n",
        "# decision tree\n",
        "dt = DecisionTreeClassifier()\n",
        "dt.fit(X_train, y_train)\n",
        "dt_pred = dt.predict(X_test)\n",
        "\n",
        "# random forest\n",
        "rf = RandomForestClassifier()\n",
        "rf.fit(X_train, y_train)\n",
        "rf_pred = rf.predict(X_test)\n",
        "\n",
        "# adaboost\n",
        "ab = AdaBoostClassifier()\n",
        "ab.fit(X_train, y_train)\n",
        "ab_pred = ab.predict(X_test)\n",
        "\n",
        "# metrics\n",
        "dt_acc = accuracy_score(y_test, dt_pred)\n",
        "dt_f1 = f1_score(y_test, dt_pred)\n",
        "\n",
        "rf_acc = accuracy_score(y_test, rf_pred)\n",
        "rf_f1 = f1_score(y_test, rf_pred)\n",
        "\n",
        "ab_acc = accuracy_score(y_test, ab_pred)\n",
        "ab_f1 = f1_score(y_test, ab_pred)\n",
        "\n",
        "print(\"Decision Tree - Accuracy:\", dt_acc, \"F1:\", dt_f1)\n",
        "print(\"Random Forest - Accuracy:\", rf_acc, \"F1:\", rf_f1)\n",
        "print(\"AdaBoost - Accuracy:\", ab_acc, \"F1:\", ab_f1)\n"
      ],
      "metadata": {
        "colab": {
          "base_uri": "https://localhost:8080/"
        },
        "id": "Srmp5fhLtd5t",
        "outputId": "505e6ede-5de7-4141-a1fe-84d400c48e52"
      },
      "execution_count": 4,
      "outputs": [
        {
          "output_type": "stream",
          "name": "stderr",
          "text": [
            "/tmp/ipython-input-1178721388.py:13: FutureWarning: A value is trying to be set on a copy of a DataFrame or Series through chained assignment using an inplace method.\n",
            "The behavior will change in pandas 3.0. This inplace method will never work because the intermediate object on which we are setting values always behaves as a copy.\n",
            "\n",
            "For example, when doing 'df[col].method(value, inplace=True)', try using 'df.method({col: value}, inplace=True)' or df[col] = df[col].method(value) instead, to perform the operation inplace on the original object.\n",
            "\n",
            "\n",
            "  df['age'].fillna(df['age'].mean(), inplace=True)\n",
            "/tmp/ipython-input-1178721388.py:14: FutureWarning: A value is trying to be set on a copy of a DataFrame or Series through chained assignment using an inplace method.\n",
            "The behavior will change in pandas 3.0. This inplace method will never work because the intermediate object on which we are setting values always behaves as a copy.\n",
            "\n",
            "For example, when doing 'df[col].method(value, inplace=True)', try using 'df.method({col: value}, inplace=True)' or df[col] = df[col].method(value) instead, to perform the operation inplace on the original object.\n",
            "\n",
            "\n",
            "  df['embarked'].fillna(df['embarked'].mode()[0], inplace=True)\n"
          ]
        },
        {
          "output_type": "stream",
          "name": "stdout",
          "text": [
            "Decision Tree - Accuracy: 0.776536312849162 F1: 0.7297297297297297\n",
            "Random Forest - Accuracy: 0.7988826815642458 F1: 0.7428571428571429\n",
            "AdaBoost - Accuracy: 0.7988826815642458 F1: 0.75\n"
          ]
        }
      ]
    }
  ]
}